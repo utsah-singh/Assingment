{
 "cells": [
  {
   "cell_type": "code",
   "execution_count": 1,
   "id": "ba7f29bd-5f0a-4e65-b89c-91bd4b2d88c9",
   "metadata": {},
   "outputs": [],
   "source": [
    "s = \" pwskills\""
   ]
  },
  {
   "cell_type": "code",
   "execution_count": 2,
   "id": "82a1cd1f-f02a-4489-9290-71201d43ea0a",
   "metadata": {},
   "outputs": [
    {
     "data": {
      "text/plain": [
       "str"
      ]
     },
     "execution_count": 2,
     "metadata": {},
     "output_type": "execute_result"
    }
   ],
   "source": [
    "type(s)"
   ]
  },
  {
   "cell_type": "code",
   "execution_count": 3,
   "id": "ba8ed4d6-f0c4-4fa1-9344-6fd70b588e3b",
   "metadata": {},
   "outputs": [],
   "source": [
    "S = [ 1,2,3,4, \"pwskills\",56,85]"
   ]
  },
  {
   "cell_type": "code",
   "execution_count": 4,
   "id": "42444689-15b7-441a-af0d-287eef30e07e",
   "metadata": {},
   "outputs": [
    {
     "data": {
      "text/plain": [
       "list"
      ]
     },
     "execution_count": 4,
     "metadata": {},
     "output_type": "execute_result"
    }
   ],
   "source": [
    "type(S)"
   ]
  },
  {
   "cell_type": "code",
   "execution_count": 5,
   "id": "fa4e6684-7b06-4584-b780-07709b01059f",
   "metadata": {},
   "outputs": [],
   "source": [
    "S = 5623.888888"
   ]
  },
  {
   "cell_type": "code",
   "execution_count": 6,
   "id": "e6c1b46f-5107-410e-ac3b-7afa7430f097",
   "metadata": {},
   "outputs": [
    {
     "data": {
      "text/plain": [
       "float"
      ]
     },
     "execution_count": 6,
     "metadata": {},
     "output_type": "execute_result"
    }
   ],
   "source": [
    "type(S)"
   ]
  },
  {
   "cell_type": "code",
   "execution_count": 7,
   "id": "799e7e53-3102-47c6-8b7d-72279cd220ef",
   "metadata": {},
   "outputs": [],
   "source": [
    "s = ('fruit', 'apple', 'jackfruit')"
   ]
  },
  {
   "cell_type": "code",
   "execution_count": 8,
   "id": "0b8402a9-9d28-4af3-97fd-1a99b1bc69d6",
   "metadata": {},
   "outputs": [
    {
     "data": {
      "text/plain": [
       "tuple"
      ]
     },
     "execution_count": 8,
     "metadata": {},
     "output_type": "execute_result"
    }
   ],
   "source": [
    "type(s)"
   ]
  },
  {
   "cell_type": "code",
   "execution_count": 9,
   "id": "24034ed5-297c-4a3d-8e3b-fd1731139292",
   "metadata": {},
   "outputs": [],
   "source": [
    "var1=''"
   ]
  },
  {
   "cell_type": "code",
   "execution_count": 10,
   "id": "4009d588-f599-42a3-8c41-3a47f1f63791",
   "metadata": {},
   "outputs": [
    {
     "data": {
      "text/plain": [
       "str"
      ]
     },
     "execution_count": 10,
     "metadata": {},
     "output_type": "execute_result"
    }
   ],
   "source": [
    "type(var1)"
   ]
  },
  {
   "cell_type": "code",
   "execution_count": 11,
   "id": "6a1df90e-fbec-420b-bc41-8c39fbf4db52",
   "metadata": {},
   "outputs": [],
   "source": [
    "var2='[DS,ML,Python]'"
   ]
  },
  {
   "cell_type": "code",
   "execution_count": 12,
   "id": "f3eebe8f-ef90-4088-b028-c6422724d482",
   "metadata": {},
   "outputs": [
    {
     "data": {
      "text/plain": [
       "str"
      ]
     },
     "execution_count": 12,
     "metadata": {},
     "output_type": "execute_result"
    }
   ],
   "source": [
    "type(var2)"
   ]
  },
  {
   "cell_type": "code",
   "execution_count": 16,
   "id": "5aaa7b36-3ba4-4e05-bbb8-ed1dd1d986f3",
   "metadata": {},
   "outputs": [],
   "source": [
    "var3=['DS','ML','Python']"
   ]
  },
  {
   "cell_type": "code",
   "execution_count": 17,
   "id": "e36cbf9c-af87-4fae-a4b2-67c7a56764eb",
   "metadata": {},
   "outputs": [
    {
     "data": {
      "text/plain": [
       "list"
      ]
     },
     "execution_count": 17,
     "metadata": {},
     "output_type": "execute_result"
    }
   ],
   "source": [
    "type(var3)"
   ]
  },
  {
   "cell_type": "code",
   "execution_count": 23,
   "id": "60f0d527-df88-4103-bb24-12561165a110",
   "metadata": {},
   "outputs": [],
   "source": [
    "var4=1"
   ]
  },
  {
   "cell_type": "code",
   "execution_count": 24,
   "id": "e56783d1-3fcf-45dd-8316-972a70702567",
   "metadata": {},
   "outputs": [
    {
     "data": {
      "text/plain": [
       "int"
      ]
     },
     "execution_count": 24,
     "metadata": {},
     "output_type": "execute_result"
    }
   ],
   "source": [
    "type(var4)"
   ]
  },
  {
   "cell_type": "code",
   "execution_count": 25,
   "id": "f5a91428-b9dc-49d3-8299-d6b3e1c47c0f",
   "metadata": {},
   "outputs": [],
   "source": [
    "X = 12\n",
    "y = 3\n"
   ]
  },
  {
   "cell_type": "code",
   "execution_count": 29,
   "id": "3fe3cfc4-c03e-4d3a-b573-e89c1f53c2b0",
   "metadata": {},
   "outputs": [
    {
     "name": "stdout",
     "output_type": "stream",
     "text": [
      "4.0\n"
     ]
    }
   ],
   "source": [
    "print(X/y)"
   ]
  },
  {
   "cell_type": "code",
   "execution_count": 30,
   "id": "32906527-dcd8-4ae8-bdcc-16b569887914",
   "metadata": {},
   "outputs": [
    {
     "ename": "NameError",
     "evalue": "name 'Y' is not defined",
     "output_type": "error",
     "traceback": [
      "\u001b[0;31m---------------------------------------------------------------------------\u001b[0m",
      "\u001b[0;31mNameError\u001b[0m                                 Traceback (most recent call last)",
      "Cell \u001b[0;32mIn[30], line 1\u001b[0m\n\u001b[0;32m----> 1\u001b[0m X\u001b[38;5;241m/\u001b[39m\u001b[43mY\u001b[49m\n",
      "\u001b[0;31mNameError\u001b[0m: name 'Y' is not defined"
     ]
    }
   ],
   "source": [
    "X/y\n"
   ]
  },
  {
   "cell_type": "code",
   "execution_count": 32,
   "id": "e15a1325-4669-475c-81cb-05e0865ea14d",
   "metadata": {},
   "outputs": [
    {
     "name": "stdout",
     "output_type": "stream",
     "text": [
      "4.0\n"
     ]
    }
   ],
   "source": [
    "print(X/y)"
   ]
  },
  {
   "cell_type": "code",
   "execution_count": 33,
   "id": "3ae921fa-5898-4a94-a816-541c7e676222",
   "metadata": {},
   "outputs": [],
   "source": [
    "X = 5\n",
    "y = 2"
   ]
  },
  {
   "cell_type": "code",
   "execution_count": 34,
   "id": "1d976544-5711-4ec5-8ef2-75751d8732e3",
   "metadata": {},
   "outputs": [
    {
     "name": "stdout",
     "output_type": "stream",
     "text": [
      "1\n"
     ]
    }
   ],
   "source": [
    "print(X%y)"
   ]
  },
  {
   "cell_type": "code",
   "execution_count": 35,
   "id": "efaaa23b-b9a7-4073-a1ba-a431c535dcf8",
   "metadata": {},
   "outputs": [],
   "source": [
    "X = 15\n",
    "y = 2"
   ]
  },
  {
   "cell_type": "code",
   "execution_count": 36,
   "id": "c8e483e5-0619-4953-bc94-7f95c08c9127",
   "metadata": {},
   "outputs": [
    {
     "name": "stdout",
     "output_type": "stream",
     "text": [
      "7\n"
     ]
    }
   ],
   "source": [
    "print(X//y)"
   ]
  },
  {
   "cell_type": "code",
   "execution_count": 37,
   "id": "22d8f7a2-4c66-4faf-bf74-2f0e64e063c9",
   "metadata": {},
   "outputs": [],
   "source": [
    "X = 2\n",
    "y = 5\n"
   ]
  },
  {
   "cell_type": "code",
   "execution_count": 38,
   "id": "35a40b97-ff41-409b-aab8-e9b8ead6e07d",
   "metadata": {},
   "outputs": [
    {
     "name": "stdout",
     "output_type": "stream",
     "text": [
      "32\n"
     ]
    }
   ],
   "source": [
    "print(X**y)"
   ]
  },
  {
   "cell_type": "code",
   "execution_count": 43,
   "id": "588c5409-2e08-49da-9ab2-8ad4fb13f32e",
   "metadata": {},
   "outputs": [
    {
     "name": "stdout",
     "output_type": "stream",
     "text": [
      "0\n",
      "1\n",
      "2\n",
      "3\n",
      "4\n",
      "5\n",
      "6\n",
      "7\n",
      "8\n",
      "9\n"
     ]
    }
   ],
   "source": [
    "num = [0,1,2,3,4,5,6,7,8,9]\n",
    "for i in num :\n",
    "       print(i)"
   ]
  },
  {
   "cell_type": "code",
   "execution_count": 47,
   "id": "c1614a4f-4e6a-41da-a807-29c99c309c82",
   "metadata": {},
   "outputs": [
    {
     "ename": "IndentationError",
     "evalue": "unindent does not match any outer indentation level (<tokenize>, line 4)",
     "output_type": "error",
     "traceback": [
      "\u001b[0;36m  File \u001b[0;32m<tokenize>:4\u001b[0;36m\u001b[0m\n\u001b[0;31m    else:\u001b[0m\n\u001b[0m    ^\u001b[0m\n\u001b[0;31mIndentationError\u001b[0m\u001b[0;31m:\u001b[0m unindent does not match any outer indentation level\n"
     ]
    }
   ],
   "source": [
    "num=int(input(\"Enter a variable number \"))\n",
    "if(num%A==0)and(number%B==0):\n",
    "    print(\"number \",formate(num))\n",
    " else:\n",
    "    print(\"number \",formate(num))\n",
    "    "
   ]
  },
  {
   "cell_type": "code",
   "execution_count": 48,
   "id": "83b3ad06-ad72-4143-bb57-7bc5ee92d25a",
   "metadata": {},
   "outputs": [],
   "source": [
    "#What do you understand about mutable and immutable dta types ? Give examples for both showing this property.\n",
    "#answer= Python has both mutable and immutable collection data types . FOR EXAMPLE = While list , dictionaries ,and set.\n",
    "#IMMUTABLE - Mutable data type is a data type Which can be modified without can be modified and chunk of the memory.FOR EXAMPLE - Strings and Tuples."
   ]
  },
  {
   "cell_type": "code",
   "execution_count": null,
   "id": "b2f8927d-777b-40fb-9e21-7062b3499b2e",
   "metadata": {},
   "outputs": [],
   "source": [
    "#T"
   ]
  }
 ],
 "metadata": {
  "kernelspec": {
   "display_name": "Python 3 (ipykernel)",
   "language": "python",
   "name": "python3"
  },
  "language_info": {
   "codemirror_mode": {
    "name": "ipython",
    "version": 3
   },
   "file_extension": ".py",
   "mimetype": "text/x-python",
   "name": "python",
   "nbconvert_exporter": "python",
   "pygments_lexer": "ipython3",
   "version": "3.10.8"
  }
 },
 "nbformat": 4,
 "nbformat_minor": 5
}
